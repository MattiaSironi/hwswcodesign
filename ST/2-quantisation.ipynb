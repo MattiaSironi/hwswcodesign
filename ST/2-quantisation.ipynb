{
 "cells": [
  {
   "cell_type": "code",
   "execution_count": 39,
   "metadata": {},
   "outputs": [],
   "source": [
    "from enum import IntEnum\n",
    "from pathlib import Path\n",
    "from functools import partial\n",
    "\n",
    "import pandas as pd\n",
    "import numpy as np"
   ]
  },
  {
   "cell_type": "markdown",
   "metadata": {},
   "source": [
    "## Load data"
   ]
  },
  {
   "cell_type": "code",
   "execution_count": 25,
   "metadata": {},
   "outputs": [
    {
     "data": {
      "text/html": [
       "<div>\n",
       "<style scoped>\n",
       "    .dataframe tbody tr th:only-of-type {\n",
       "        vertical-align: middle;\n",
       "    }\n",
       "\n",
       "    .dataframe tbody tr th {\n",
       "        vertical-align: top;\n",
       "    }\n",
       "\n",
       "    .dataframe thead th {\n",
       "        text-align: right;\n",
       "    }\n",
       "</style>\n",
       "<table border=\"1\" class=\"dataframe\">\n",
       "  <thead>\n",
       "    <tr style=\"text-align: right;\">\n",
       "      <th></th>\n",
       "      <th>A_X [mg]</th>\n",
       "      <th>A_Y [mg]</th>\n",
       "      <th>A_Z [mg]</th>\n",
       "      <th>G_X [dps]</th>\n",
       "      <th>G_Y [dps]</th>\n",
       "      <th>G_Z [dps]</th>\n",
       "    </tr>\n",
       "  </thead>\n",
       "  <tbody>\n",
       "    <tr>\n",
       "      <th>100</th>\n",
       "      <td>-528.603052</td>\n",
       "      <td>339.785076</td>\n",
       "      <td>765.702783</td>\n",
       "      <td>7.626247</td>\n",
       "      <td>2.427705</td>\n",
       "      <td>-4.052376</td>\n",
       "    </tr>\n",
       "    <tr>\n",
       "      <th>200</th>\n",
       "      <td>-473.420352</td>\n",
       "      <td>540.424089</td>\n",
       "      <td>706.021734</td>\n",
       "      <td>20.270977</td>\n",
       "      <td>20.076961</td>\n",
       "      <td>3.788026</td>\n",
       "    </tr>\n",
       "    <tr>\n",
       "      <th>300</th>\n",
       "      <td>-406.772613</td>\n",
       "      <td>600.130302</td>\n",
       "      <td>677.172802</td>\n",
       "      <td>-61.501799</td>\n",
       "      <td>-9.428375</td>\n",
       "      <td>21.992674</td>\n",
       "    </tr>\n",
       "    <tr>\n",
       "      <th>400</th>\n",
       "      <td>-489.208149</td>\n",
       "      <td>39.461775</td>\n",
       "      <td>817.214965</td>\n",
       "      <td>0.881396</td>\n",
       "      <td>-13.968121</td>\n",
       "      <td>19.48656</td>\n",
       "    </tr>\n",
       "    <tr>\n",
       "      <th>500</th>\n",
       "      <td>-303.244285</td>\n",
       "      <td>371.931881</td>\n",
       "      <td>825.334763</td>\n",
       "      <td>34.184294</td>\n",
       "      <td>33.466694</td>\n",
       "      <td>-0.787482</td>\n",
       "    </tr>\n",
       "    <tr>\n",
       "      <th>...</th>\n",
       "      <td>...</td>\n",
       "      <td>...</td>\n",
       "      <td>...</td>\n",
       "      <td>...</td>\n",
       "      <td>...</td>\n",
       "      <td>...</td>\n",
       "    </tr>\n",
       "    <tr>\n",
       "      <th>5800</th>\n",
       "      <td>-661.418676</td>\n",
       "      <td>905.089112</td>\n",
       "      <td>-9.773697</td>\n",
       "      <td>22.88068</td>\n",
       "      <td>21.501385</td>\n",
       "      <td>-15.114063</td>\n",
       "    </tr>\n",
       "    <tr>\n",
       "      <th>5900</th>\n",
       "      <td>-843.071031</td>\n",
       "      <td>1255.936004</td>\n",
       "      <td>-25.977357</td>\n",
       "      <td>34.726594</td>\n",
       "      <td>-7.940121</td>\n",
       "      <td>-50.933828</td>\n",
       "    </tr>\n",
       "    <tr>\n",
       "      <th>6000</th>\n",
       "      <td>-535.951809</td>\n",
       "      <td>1131.596839</td>\n",
       "      <td>-44.396183</td>\n",
       "      <td>26.10528</td>\n",
       "      <td>2.041256</td>\n",
       "      <td>-16.753543</td>\n",
       "    </tr>\n",
       "    <tr>\n",
       "      <th>6100</th>\n",
       "      <td>-561.364483</td>\n",
       "      <td>996.505024</td>\n",
       "      <td>58.851915</td>\n",
       "      <td>25.752353</td>\n",
       "      <td>11.070853</td>\n",
       "      <td>0.770632</td>\n",
       "    </tr>\n",
       "    <tr>\n",
       "      <th>6200</th>\n",
       "      <td>-809.920717</td>\n",
       "      <td>1387.503212</td>\n",
       "      <td>-56.084913</td>\n",
       "      <td>11.038009</td>\n",
       "      <td>31.496496</td>\n",
       "      <td>40.787075</td>\n",
       "    </tr>\n",
       "  </tbody>\n",
       "</table>\n",
       "<p>2512 rows × 6 columns</p>\n",
       "</div>"
      ],
      "text/plain": [
       "        A_X [mg]     A_Y [mg]    A_Z [mg]  G_X [dps]  G_Y [dps]  G_Z [dps]\n",
       "100  -528.603052   339.785076  765.702783   7.626247   2.427705  -4.052376\n",
       "200  -473.420352   540.424089  706.021734  20.270977  20.076961   3.788026\n",
       "300  -406.772613   600.130302  677.172802 -61.501799  -9.428375  21.992674\n",
       "400  -489.208149    39.461775  817.214965   0.881396 -13.968121   19.48656\n",
       "500  -303.244285   371.931881  825.334763  34.184294  33.466694  -0.787482\n",
       "...          ...          ...         ...        ...        ...        ...\n",
       "5800 -661.418676   905.089112   -9.773697   22.88068  21.501385 -15.114063\n",
       "5900 -843.071031  1255.936004  -25.977357  34.726594  -7.940121 -50.933828\n",
       "6000 -535.951809  1131.596839  -44.396183   26.10528   2.041256 -16.753543\n",
       "6100 -561.364483   996.505024   58.851915  25.752353  11.070853   0.770632\n",
       "6200 -809.920717  1387.503212  -56.084913  11.038009  31.496496  40.787075\n",
       "\n",
       "[2512 rows x 6 columns]"
      ]
     },
     "execution_count": 25,
     "metadata": {},
     "output_type": "execute_result"
    }
   ],
   "source": [
    "DATA_PATH = Path('train_set')\n",
    "WINDOW_SIZE = 100\n",
    "\n",
    "activity_label_map: dict[str, int] = {}\n",
    "feature_df_list: list[pd.DataFrame] = []\n",
    "\n",
    "for activity_class_path in DATA_PATH.iterdir():\n",
    "    class_samples = []\n",
    "    for sample_file_path in activity_class_path.glob(\"*.txt\"):\n",
    "        sample_df = pd.read_csv(sample_file_path, sep=\"\\t\")\n",
    "        sample_feature_df = (\n",
    "            sample_df\n",
    "            .rolling(window=WINDOW_SIZE, step=WINDOW_SIZE)\n",
    "            .mean()\n",
    "            .dropna(axis=\"index\", how=\"all\")\n",
    "        )\n",
    "        feature_df_list.append(sample_feature_df)\n",
    "    activity_class = activity_class_path.stem\n",
    "    activity_label_map[activity_class] = sample_df[\"LABEL\"].unique()[0]\n",
    "\n",
    "feature_df = pd.concat(feature_df_list).convert_dtypes()\n",
    "label_series = feature_df.pop(\"LABEL\")\n",
    "feature_df"
   ]
  },
  {
   "cell_type": "code",
   "execution_count": 26,
   "metadata": {},
   "outputs": [
    {
     "data": {
      "text/plain": [
       "100     4\n",
       "200     4\n",
       "300     4\n",
       "400     4\n",
       "500     4\n",
       "       ..\n",
       "5800    3\n",
       "5900    3\n",
       "6000    3\n",
       "6100    3\n",
       "6200    3\n",
       "Name: LABEL, Length: 2512, dtype: Int64"
      ]
     },
     "execution_count": 26,
     "metadata": {},
     "output_type": "execute_result"
    }
   ],
   "source": [
    "label_series"
   ]
  },
  {
   "cell_type": "code",
   "execution_count": 7,
   "metadata": {},
   "outputs": [
    {
     "data": {
      "text/plain": [
       "{'cycling': 4, 'walking': 2, 'stationary': 1, 'running': 3}"
      ]
     },
     "execution_count": 7,
     "metadata": {},
     "output_type": "execute_result"
    }
   ],
   "source": [
    "activity_label_map"
   ]
  },
  {
   "cell_type": "markdown",
   "metadata": {},
   "source": [
    "## Converting model from `emlearn` back to Python"
   ]
  },
  {
   "cell_type": "markdown",
   "metadata": {},
   "source": [
    "### Simplified tree model generated by `emlearn`:"
   ]
  },
  {
   "cell_type": "markdown",
   "metadata": {},
   "source": [
    "```c\n",
    "#pragma once\n",
    "\n",
    "#include <stdint.h>\n",
    "\n",
    "static inline int32_t\n",
    "activity_classifier_predict_tree_0(const float *features) {\n",
    "  if (features[2] < 337.0892333984375) {\n",
    "    if (features[1] < 752.7792358398438) {\n",
    "      if (features[1] < -619.2154235839844) {\n",
    "        return 1;\n",
    "      } else {\n",
    "        if (features[1] < 558.8316955566406) {\n",
    "          if (features[0] < -903.6760559082031) {\n",
    "            return 3;\n",
    "          } else {\n",
    "            return 3;\n",
    "          }\n",
    "        } else {\n",
    "          return 3;\n",
    "        }\n",
    "      }\n",
    "    } else {\n",
    "      if (features[0] < -198.67298889160156) {\n",
    "        if (features[1] < 964.0451965332031) {\n",
    "          if (features[0] < -688.8497314453125) {\n",
    "            return 1;\n",
    "          } else {\n",
    "            return 1;\n",
    "          }\n",
    "        } else {\n",
    "          return 1;\n",
    "        }\n",
    "      } else {\n",
    "        if (features[0] < 68.24848175048828) {\n",
    "          return 2;\n",
    "        } else {\n",
    "          if (features[3] < -0.5337255299091339) {\n",
    "            return 2;\n",
    "          } else {\n",
    "            return 2;\n",
    "          }\n",
    "        }\n",
    "      }\n",
    "    }\n",
    "  } else {\n",
    "    if (features[0] < -67.42924499511719) {\n",
    "      if (features[2] < 437.91233825683594) {\n",
    "        if (features[0] < -886.8507690429688) {\n",
    "          return 3;\n",
    "        } else {\n",
    "          if (features[5] < -0.637690544128418) {\n",
    "            return 2;\n",
    "          } else {\n",
    "            return 2;\n",
    "          }\n",
    "        }\n",
    "      } else {\n",
    "        if (features[5] < -23.546794891357422) {\n",
    "          return 3;\n",
    "        } else {\n",
    "          if (features[2] < 697.09912109375) {\n",
    "            return 0;\n",
    "          } else {\n",
    "            return 0;\n",
    "          }\n",
    "        }\n",
    "      }\n",
    "    } else {\n",
    "      if (features[3] < -0.9509706199169159) {\n",
    "        return 2;\n",
    "      } else {\n",
    "        if (features[3] < 1.3026073575019836) {\n",
    "          return 2;\n",
    "        } else {\n",
    "          return 2;\n",
    "        }\n",
    "      }\n",
    "    }\n",
    "  }\n",
    "}\n",
    "\n",
    "uint8_t activity_classifier_predict(const float *features) {\n",
    "  return activity_classifier_predict_tree_0(features);\n",
    "}\n",
    "\n",
    "```"
   ]
  },
  {
   "cell_type": "markdown",
   "metadata": {},
   "source": [
    "### Translation to Python"
   ]
  },
  {
   "cell_type": "code",
   "execution_count": 35,
   "metadata": {},
   "outputs": [],
   "source": [
    "# # Original\n",
    "# class ActivityClass(IntEnum):\n",
    "#     CYCLING = 0\n",
    "#     RUNNING = 1\n",
    "#     STATIONARY = 2\n",
    "#     WALKING = 3\n",
    "\n",
    "class ActivityClass(IntEnum):\n",
    "    CYCLING = 4\n",
    "    RUNNING = 3\n",
    "    STATIONARY = 1\n",
    "    WALKING = 2\n",
    "\n",
    "\n",
    "Features = tuple[float, float, float, float, float, float]\n",
    "Parameter = float | int\n",
    "\n",
    "TRAINED_PARAMETERS = [\n",
    "    337.0892333984375,\n",
    "    752.7792358398438,\n",
    "    -619.2154235839844,\n",
    "    558.8316955566406,\n",
    "    -903.6760559082031,\n",
    "    -198.67298889160156,\n",
    "    964.0451965332031,\n",
    "    -688.8497314453125,\n",
    "    68.24848175048828,\n",
    "    -0.5337255299091339,\n",
    "    -67.42924499511719,\n",
    "    437.91233825683594,\n",
    "    -886.8507690429688,\n",
    "    -0.637690544128418,\n",
    "    -23.546794891357422,\n",
    "    697.09912109375,\n",
    "    -0.9509706199169159,\n",
    "    1.3026073575019836,\n",
    "]\n",
    "\n",
    "\n",
    "def classify(parameters: list[Parameter], features: Features) -> ActivityClass:\n",
    "    if features[2] < parameters[0]:\n",
    "        if features[1] < parameters[1]:\n",
    "            if features[1] < parameters[2]:\n",
    "                return ActivityClass.RUNNING\n",
    "            else:\n",
    "                if features[1] < parameters[3]:\n",
    "                    if features[0] < parameters[4]:\n",
    "                        return ActivityClass.WALKING\n",
    "                    else:\n",
    "                        return ActivityClass.WALKING\n",
    "                else:\n",
    "                    return ActivityClass.WALKING\n",
    "        else:\n",
    "            if features[0] < parameters[5]:\n",
    "                if features[1] < parameters[6]:\n",
    "                    if features[0] < parameters[7]:\n",
    "                        return ActivityClass.RUNNING\n",
    "                    else:\n",
    "                        return ActivityClass.RUNNING\n",
    "                else:\n",
    "                    return ActivityClass.RUNNING\n",
    "            else:\n",
    "                if features[0] < parameters[8]:\n",
    "                    return ActivityClass.STATIONARY\n",
    "                else:\n",
    "                    if features[3] < parameters[9]:\n",
    "                        return ActivityClass.STATIONARY\n",
    "                    else:\n",
    "                        return ActivityClass.STATIONARY\n",
    "    else:\n",
    "        if features[0] < parameters[10]:\n",
    "            if features[2] < parameters[11]:\n",
    "                if features[0] < parameters[12]:\n",
    "                    return ActivityClass.WALKING\n",
    "                else:\n",
    "                    if features[5] < parameters[13]:\n",
    "                        return ActivityClass.STATIONARY\n",
    "                    else:\n",
    "                        return ActivityClass.STATIONARY\n",
    "                        # I'm here\n",
    "            else:\n",
    "                if features[5] < parameters[14]:\n",
    "                    return ActivityClass.WALKING\n",
    "                else:\n",
    "                    if features[2] < parameters[15]:\n",
    "                        return ActivityClass.CYCLING\n",
    "                    else:\n",
    "                        return ActivityClass.CYCLING\n",
    "        else:\n",
    "            if features[3] < parameters[16]:\n",
    "                return ActivityClass.STATIONARY\n",
    "            else:\n",
    "                if features[3] < parameters[17]:\n",
    "                    return ActivityClass.STATIONARY\n",
    "                else:\n",
    "                    return ActivityClass.STATIONARY"
   ]
  },
  {
   "cell_type": "code",
   "execution_count": 40,
   "metadata": {},
   "outputs": [
    {
     "data": {
      "text/plain": [
       "array([ 3.37089233e+02,  7.52779236e+02, -6.19215424e+02,  5.58831696e+02,\n",
       "       -9.03676056e+02, -1.98672989e+02,  9.64045197e+02, -6.88849731e+02,\n",
       "        6.82484818e+01, -5.33725530e-01, -6.74292450e+01,  4.37912338e+02,\n",
       "       -8.86850769e+02, -6.37690544e-01, -2.35467949e+01,  6.97099121e+02,\n",
       "       -9.50970620e-01,  1.30260736e+00])"
      ]
     },
     "execution_count": 40,
     "metadata": {},
     "output_type": "execute_result"
    }
   ],
   "source": [
    "trained_parameters_np = np.array(TRAINED_PARAMETERS)\n",
    "trained_parameters_np"
   ]
  },
  {
   "cell_type": "code",
   "execution_count": 36,
   "metadata": {},
   "outputs": [
    {
     "data": {
      "text/plain": [
       "<ActivityClass.CYCLING: 4>"
      ]
     },
     "execution_count": 36,
     "metadata": {},
     "output_type": "execute_result"
    }
   ],
   "source": [
    "def classify_series(parameters: list[Parameter], series: pd.Series) -> ActivityClass:\n",
    "    return classify(parameters, series.to_list())\n",
    "\n",
    "classify_series(TRAINED_PARAMETERS, feature_df.iloc[0])"
   ]
  },
  {
   "cell_type": "markdown",
   "metadata": {},
   "source": [
    "### Sanity check"
   ]
  },
  {
   "cell_type": "code",
   "execution_count": 37,
   "metadata": {},
   "outputs": [
    {
     "data": {
      "text/plain": [
       "100     4\n",
       "200     4\n",
       "300     4\n",
       "400     4\n",
       "500     4\n",
       "       ..\n",
       "5800    3\n",
       "5900    3\n",
       "6000    3\n",
       "6100    3\n",
       "6200    3\n",
       "Length: 2512, dtype: int64"
      ]
     },
     "execution_count": 37,
     "metadata": {},
     "output_type": "execute_result"
    }
   ],
   "source": [
    "predicted_label_series = feature_df.apply(\n",
    "    partial(classify_series, TRAINED_PARAMETERS),\n",
    "    axis=\"columns\",\n",
    ")\n",
    "predicted_label_series"
   ]
  },
  {
   "cell_type": "code",
   "execution_count": 38,
   "metadata": {},
   "outputs": [
    {
     "data": {
      "text/plain": [
       "0.9096337579617835"
      ]
     },
     "execution_count": 38,
     "metadata": {},
     "output_type": "execute_result"
    }
   ],
   "source": [
    "(predicted_label_series == label_series).mean()"
   ]
  },
  {
   "cell_type": "markdown",
   "metadata": {},
   "source": [
    "## Experimenting with truncation"
   ]
  },
  {
   "cell_type": "markdown",
   "metadata": {},
   "source": [
    "### Input"
   ]
  },
  {
   "cell_type": "code",
   "execution_count": null,
   "metadata": {},
   "outputs": [],
   "source": [
    "decimals_history, accuracy_history = []\n",
    "for decimals in range(1, 10+1):\n",
    "    truncated_feature_df = feature_df.round(decimals)\n",
    "    predicted_label_series = feature_df.apply(\n",
    "        partial(classify_series, TRAINED_PARAMETERS),\n",
    "        axis=\"columns\",\n",
    "    )\n",
    "\n",
    "predicted_label_series"
   ]
  },
  {
   "cell_type": "markdown",
   "metadata": {},
   "source": [
    "### Output"
   ]
  },
  {
   "cell_type": "code",
   "execution_count": null,
   "metadata": {},
   "outputs": [],
   "source": []
  }
 ],
 "metadata": {
  "kernelspec": {
   "display_name": "venv",
   "language": "python",
   "name": "python3"
  },
  "language_info": {
   "codemirror_mode": {
    "name": "ipython",
    "version": 3
   },
   "file_extension": ".py",
   "mimetype": "text/x-python",
   "name": "python",
   "nbconvert_exporter": "python",
   "pygments_lexer": "ipython3",
   "version": "3.11.6"
  }
 },
 "nbformat": 4,
 "nbformat_minor": 2
}
